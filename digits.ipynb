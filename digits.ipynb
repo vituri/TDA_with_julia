{
  "cells": [
    {
      "cell_type": "markdown",
      "metadata": {},
      "source": [
        "# Classifying hand-written digits\n",
        "\n",
        "In this tutorial, we will try to classify hand-written digits using the tools seen in previous chapters.\n",
        "\n",
        "## Loading packages\n"
      ],
      "id": "7db71eb0"
    },
    {
      "cell_type": "code",
      "metadata": {},
      "source": [
        "using MLDatasets\n",
        "using Images, Makie, CairoMakie\n",
        "using Distances\n",
        "using Ripserer, PersistenceDiagrams#, Plots\n",
        "using StatsBase: mean"
      ],
      "id": "7dcde0e3",
      "execution_count": null,
      "outputs": []
    },
    {
      "cell_type": "markdown",
      "metadata": {},
      "source": [
        "## The dataset\n",
        "\n",
        "MNIST is a dataset consisting of ??? hand-written digits. Each digit is a 28x28 grayscale image, that is: a 28x28 matrix of values 0 to 1. To get this dataset, run\n"
      ],
      "id": "80e02604"
    },
    {
      "cell_type": "code",
      "metadata": {},
      "source": [
        "train_x, train_y = MNIST(split=:train)[:];"
      ],
      "id": "993a5403",
      "execution_count": null,
      "outputs": []
    },
    {
      "cell_type": "markdown",
      "metadata": {},
      "source": [
        "If the console asks you to download some data, just press `y`.\n",
        "\n",
        "Next, we transpose the digits and plot some of them in a mosaic\n"
      ],
      "id": "5018952b"
    },
    {
      "cell_type": "code",
      "metadata": {},
      "source": [
        "# store all digits in a figs variable\n",
        "figs = [train_x[:, :, i]' |> Matrix for i ∈ 1:size(train_x)[3]]"
      ],
      "id": "72d12e53",
      "execution_count": null,
      "outputs": []
    },
    {
      "cell_type": "code",
      "metadata": {},
      "source": [
        "n = 10\n",
        "\n",
        "# convert to Gray so we can plot a mosaic\n",
        "figs_plot = [fig .|> Gray for fig in figs[1:n^2]]\n",
        "mosaicview(figs_plot, nrow = n, rowmajor = true)"
      ],
      "id": "36ffcc27",
      "execution_count": null,
      "outputs": []
    },
    {
      "cell_type": "markdown",
      "metadata": {},
      "source": [
        "## Preparing the topology weapons\n",
        "\n",
        "What topological tools can be useful to distinguish between different numbers?\n",
        "\n",
        "Persistence homology alone won't be of much help. All digits are connected, so the 0-persistence is useless. For the 1-dimensional persistence,\n",
        "\n",
        "- 0, 2 (not always), 6, 8 and 9 contain holes;\n",
        "- 1, 3, 4, 5, 7 do not contain holes.\n",
        "\n",
        "What if we starting chopping the digits with sublevels of some functions? Two come readily to the mind: the density and the excentricity. The excentricity is able to detect \"edges\" of our figures, and the density will see where there are many points together.\n",
        "\n",
        "### From matrices to points in the plane\n",
        "\n",
        "In order to calculate the excentricity, we need to convert the digits to points in $\\mathbb{R}^2$. A simple function can do that:\n"
      ],
      "id": "2bfd3554"
    },
    {
      "cell_type": "code",
      "metadata": {},
      "source": [
        "function img_to_points(img, threshold = 0.5)\n",
        "    ids = findall(x -> x >= threshold, img)\n",
        "    pts = getindex.(ids, [1 2])\n",
        "    pts\n",
        "end"
      ],
      "id": "72e05ab1",
      "execution_count": null,
      "outputs": []
    },
    {
      "cell_type": "markdown",
      "metadata": {},
      "source": [
        "Notice that we had to define a threshold: coordinates with values less than the threshold are not considered.\n",
        "\n",
        "Let's also define a function to plot the digit in $\\mathbb{R}^2$:\n"
      ],
      "id": "db510809"
    },
    {
      "cell_type": "code",
      "metadata": {},
      "source": [
        "function plot_digit(pt, values = :black)\n",
        "    f = Figure();\n",
        "    ax = Makie.Axis(f[1, 1], autolimitaspect = 1)\n",
        "    scatter!(ax, pt; markersize = 40, marker = :rect, color = values)\n",
        "    if values isa Vector{<:Real}\n",
        "        Colorbar(f[1, 2])\n",
        "    end\n",
        "    f\n",
        "end"
      ],
      "id": "4a11ab0d",
      "execution_count": null,
      "outputs": []
    },
    {
      "cell_type": "markdown",
      "metadata": {},
      "source": [
        "We can see that it works as expected:\n"
      ],
      "id": "e3040559"
    },
    {
      "cell_type": "code",
      "metadata": {},
      "source": [
        "pt = img_to_points(figs[1]');\n",
        "plot_digit(pt)"
      ],
      "id": "fc996314",
      "execution_count": null,
      "outputs": []
    },
    {
      "cell_type": "markdown",
      "metadata": {},
      "source": [
        "The excentricity of a metric space $(X, d)$ is a measure of how far a point is from the \"center\". It is defined as follows for each $x \\in X$:\n",
        "\n",
        "$$\n",
        "e(x) = \\sum_{y \\in X} \\frac{d(x, y)}{N}\n",
        "$$\n",
        "\n",
        "where $N$ is the amount of points of $X$.\n"
      ],
      "id": "d5ec2df3"
    }
  ],
  "metadata": {
    "kernelspec": {
      "name": "julia-nodeps-1.9",
      "language": "julia",
      "display_name": "Julia nodeps 1.9.3"
    }
  },
  "nbformat": 4,
  "nbformat_minor": 5
}